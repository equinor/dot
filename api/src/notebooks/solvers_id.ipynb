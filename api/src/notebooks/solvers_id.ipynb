{
 "cells": [
  {
   "cell_type": "code",
   "execution_count": null,
   "id": "166635e4",
   "metadata": {},
   "outputs": [],
   "source": [
    "%run ./models.py"
   ]
  },
  {
   "cell_type": "code",
   "execution_count": null,
   "id": "8db45b21",
   "metadata": {},
   "outputs": [],
   "source": [
    "var_pollution = models.Variable(\"Pollution\", [\"yes\", \"no\"], \"chance\")\n",
    "var_smoker = models.Variable(\"Smoker\", [\"yes\", \"no\"], \"chance\")\n",
    "var_cancer = models.Variable(\"Cancer\", [\"yes\", \"no\"], \"chance\")\n",
    "var_xray = models.Variable(\"Xray\", [\"yes\", \"no\"], \"chance\")\n",
    "var_dyspnoea = models.Variable(\"Dyspnoea\", [\"yes\", \"no\"], \"chance\")\n",
    "\n",
    "variables = (\n",
    "    var_pollution,\n",
    "    var_smoker,\n",
    "    var_cancer,\n",
    "    var_xray,\n",
    "    var_dyspnoea,\n",
    ")\n",
    "\n",
    "arcs = (\n",
    "    models.Arc(var_pollution, var_cancer),\n",
    "    models.Arc(var_smoker, var_cancer),\n",
    "    models.Arc(var_cancer, var_xray),\n",
    "    models.Arc(var_cancer, var_dyspnoea),\n",
    ")\n",
    "\n",
    "cpd_pollution = models.CPD(\n",
    "    variable=var_pollution,\n",
    "    parents=None,\n",
    "    table=[[0.9], [0.1]],\n",
    "    )\n",
    "cpd_smoker = models.CPD(\n",
    "    variable=var_smoker,\n",
    "    parents=None,\n",
    "    table=[[0.3], [0.7]],\n",
    "    )\n",
    "cpd_cancer = models.CPD(\n",
    "    variable=var_cancer,\n",
    "    parents=[var_smoker, var_pollution],\n",
    "    table=[[0.03, 0.05, 0.001, 0.02], [0.97, 0.95, 0.999, 0.98]],\n",
    ")\n",
    "cpd_xray = models.CPD(\n",
    "    variable=var_xray,\n",
    "    parents=[var_cancer],\n",
    "    table=[[0.9, 0.2], [0.1, 0.8]],\n",
    ")\n",
    "cpd_dyspnoea = models.CPD(\n",
    "    variable=var_dyspnoea,\n",
    "    parents=[var_cancer],\n",
    "    table=[[0.65, 0.3], [0.35, 0.7]],\n",
    ")\n",
    "\n",
    "cdps = (\n",
    "    cpd_pollution,\n",
    "    cpd_smoker,\n",
    "    cpd_cancer,\n",
    "    cpd_xray,\n",
    "    cpd_dyspnoea,\n",
    ")"
   ]
  },
  {
   "cell_type": "code",
   "execution_count": null,
   "id": "5a6aa41e",
   "metadata": {},
   "outputs": [],
   "source": [
    "pgm_model = models.PGM(name=\"Cancer_model\", variables=variables, arcs=arcs, cdps=cdps)"
   ]
  },
  {
   "cell_type": "code",
   "execution_count": null,
   "id": "76b1861c",
   "metadata": {},
   "outputs": [],
   "source": [
    "pgm_model.print_nodes()\n",
    "pgm_model.print_arcs()\n",
    "pgm_model.print_variables()\n",
    "pgm_model.print_potentials()"
   ]
  },
  {
   "cell_type": "code",
   "execution_count": null,
   "id": "91db2420",
   "metadata": {},
   "outputs": [],
   "source": [
    "pgm_model.model.check_model()"
   ]
  },
  {
   "cell_type": "code",
   "execution_count": null,
   "id": "6fae971c",
   "metadata": {},
   "outputs": [],
   "source": [
    "pgm_model.draw_graph()"
   ]
  },
  {
   "cell_type": "code",
   "execution_count": null,
   "id": "c9e6c0e7",
   "metadata": {},
   "outputs": [],
   "source": [
    "gum_model = models.GUM(name=\"Cancer_model\", variables=variables, arcs=arcs, cdps=cdps)"
   ]
  },
  {
   "cell_type": "code",
   "execution_count": null,
   "id": "ab1de249",
   "metadata": {},
   "outputs": [],
   "source": [
    "gum_model.print_nodes()\n",
    "gum_model.print_arcs()\n",
    "gum_model.print_variables()\n",
    "gum_model.print_potentials()"
   ]
  },
  {
   "cell_type": "code",
   "execution_count": null,
   "id": "1b9fc652",
   "metadata": {},
   "outputs": [],
   "source": [
    "gum_model.draw_graph()"
   ]
  },
  {
   "cell_type": "code",
   "execution_count": null,
   "id": "f8cb4a22",
   "metadata": {},
   "outputs": [],
   "source": [
    "print(pgm_model.inference(\"Xray\"))\n",
    "print(pgm_model.inference(\"Dyspnoea\"))"
   ]
  },
  {
   "cell_type": "code",
   "execution_count": null,
   "id": "ad751017",
   "metadata": {},
   "outputs": [],
   "source": [
    "print(gum_model.inference(\"Xray\"))\n",
    "print(gum_model.inference(\"Dyspnoea\"))"
   ]
  }
 ],
 "metadata": {
  "kernelspec": {
   "display_name": ".venv (3.12.1)",
   "language": "python",
   "name": "python3"
  },
  "language_info": {
   "codemirror_mode": {
    "name": "ipython",
    "version": 3
   },
   "file_extension": ".py",
   "mimetype": "text/x-python",
   "name": "python",
   "nbconvert_exporter": "python",
   "pygments_lexer": "ipython3",
   "version": "3.12.1"
  }
 },
 "nbformat": 4,
 "nbformat_minor": 5
}
